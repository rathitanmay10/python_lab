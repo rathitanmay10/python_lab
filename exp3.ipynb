{
 "cells": [
  {
   "cell_type": "code",
   "execution_count": 9,
   "id": "a27bc862-f8a7-4883-af07-e4ed41652514",
   "metadata": {},
   "outputs": [
    {
     "name": "stdin",
     "output_type": "stream",
     "text": [
      "Enter a number:  13\n"
     ]
    },
    {
     "name": "stdout",
     "output_type": "stream",
     "text": [
      "13  is not even\n"
     ]
    }
   ],
   "source": [
    "num = int(input(\"Enter a number: \"))\n",
    "if (num%2 == 0):\n",
    "    print(num,\" is even\")\n",
    "else:\n",
    "    print(num, \" is not even\")"
   ]
  },
  {
   "cell_type": "code",
   "execution_count": 13,
   "id": "6c0a45bd-c251-46dd-9275-5477eee6b57d",
   "metadata": {},
   "outputs": [
    {
     "name": "stdout",
     "output_type": "stream",
     "text": [
      "0.5\n",
      "0.3333333333333333\n",
      "0.25\n",
      "0.2\n",
      "0.16666666666666666\n",
      "0.14285714285714285\n",
      "0.125\n",
      "0.1111111111111111\n",
      "0.1\n"
     ]
    }
   ],
   "source": [
    "for i in range(2,11):\n",
    "    print(1/i)"
   ]
  },
  {
   "cell_type": "code",
   "execution_count": null,
   "id": "3a965b73-753b-49a2-b197-6321bfc0d0e2",
   "metadata": {},
   "outputs": [],
   "source": []
  }
 ],
 "metadata": {
  "kernelspec": {
   "display_name": "Python 3 (ipykernel)",
   "language": "python",
   "name": "python3"
  },
  "language_info": {
   "codemirror_mode": {
    "name": "ipython",
    "version": 3
   },
   "file_extension": ".py",
   "mimetype": "text/x-python",
   "name": "python",
   "nbconvert_exporter": "python",
   "pygments_lexer": "ipython3",
   "version": "3.12.7"
  }
 },
 "nbformat": 4,
 "nbformat_minor": 5
}
