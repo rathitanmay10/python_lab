{
 "cells": [
  {
   "cell_type": "code",
   "execution_count": 3,
   "id": "733f0234-d8de-4dbe-a66d-aa380e3560c3",
   "metadata": {},
   "outputs": [
    {
     "name": "stdin",
     "output_type": "stream",
     "text": [
      "Enter a number:  9\n"
     ]
    },
    {
     "name": "stdout",
     "output_type": "stream",
     "text": [
      "9  is not even\n"
     ]
    }
   ],
   "source": [
    "# Prompt the user to enter a number and convert the input to an integer\n",
    "num = int(input(\"Enter a number: \"))\n",
    "\n",
    "# Check if the number is even by using the modulus operator\n",
    "if (num % 2 == 0):\n",
    "    # If the number is even, print a message indicating it is even\n",
    "    print(num, \" is even\")\n",
    "else:\n",
    "    # If the number is not even, print a message indicating it is not even\n",
    "    print(num, \" is not even\")"
   ]
  },
  {
   "cell_type": "code",
   "execution_count": 7,
   "id": "c7dceae3-ca40-4aac-acbe-ccc00ee123e3",
   "metadata": {},
   "outputs": [
    {
     "name": "stdout",
     "output_type": "stream",
     "text": [
      "0.5\n",
      "0.3333333333333333\n",
      "0.25\n",
      "0.2\n",
      "0.16666666666666666\n",
      "0.14285714285714285\n",
      "0.125\n",
      "0.1111111111111111\n",
      "0.1\n"
     ]
    }
   ],
   "source": [
    "# Iterate over a range of numbers from 2 to 10 (inclusive)\n",
    "for i in range(2, 11):\n",
    "    # Print the reciprocal of the current number 'i'\n",
    "    print(1/i)"
   ]
  },
  {
   "cell_type": "code",
   "execution_count": null,
   "id": "3a965b73-753b-49a2-b197-6321bfc0d0e2",
   "metadata": {},
   "outputs": [],
   "source": []
  }
 ],
 "metadata": {
  "kernelspec": {
   "display_name": "Python 3 (ipykernel)",
   "language": "python",
   "name": "python3"
  },
  "language_info": {
   "codemirror_mode": {
    "name": "ipython",
    "version": 3
   },
   "file_extension": ".py",
   "mimetype": "text/x-python",
   "name": "python",
   "nbconvert_exporter": "python",
   "pygments_lexer": "ipython3",
   "version": "3.12.7"
  }
 },
 "nbformat": 4,
 "nbformat_minor": 5
}
