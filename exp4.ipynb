{
 "cells": [
  {
   "cell_type": "code",
   "execution_count": 27,
   "id": "6f196203-533b-41d0-bc26-dcb71d2146a0",
   "metadata": {},
   "outputs": [
    {
     "name": "stdout",
     "output_type": "stream",
     "text": [
      "['Tanmay', 'Vanshika', 'Tanisha', 'Yuvraj']\n",
      "Tanmay\n",
      "Tanmay\n",
      "Vanshika\n",
      "Tanisha\n",
      "Yuvraj\n"
     ]
    },
    {
     "data": {
      "text/plain": [
       "['Tanmay', 'Vanshika', 'Tanisha', 'Rahu']"
      ]
     },
     "execution_count": 27,
     "metadata": {},
     "output_type": "execute_result"
    }
   ],
   "source": [
    "l = ['Tanmay','Vanshika','Tanisha','Yuvraj']\n",
    "print(l)\n",
    "print(l[0])\n",
    "for i in l:\n",
    "    print(i)\n",
    "l[3] = \"Rahu\"\n",
    "l"
   ]
  },
  {
   "cell_type": "code",
   "execution_count": 41,
   "id": "8daca7ac-de7f-47c2-87cf-c127f97c8d45",
   "metadata": {},
   "outputs": [
    {
     "name": "stdout",
     "output_type": "stream",
     "text": [
      "('Tanmay', 'Vanshika', 'Tanisha', 'Yuvraj')\n",
      "Yuvraj\n",
      "Tanmay\n",
      "Vanshika\n",
      "Tanisha\n",
      "Yuvraj\n"
     ]
    }
   ],
   "source": [
    "t = ('Tanmay','Vanshika','Tanisha','Yuvraj')\n",
    "print(t)\n",
    "print(t[3])\n",
    "for i in t:\n",
    "    print(i)"
   ]
  },
  {
   "cell_type": "code",
   "execution_count": 39,
   "id": "67cdf431-5a93-4c0c-a276-92d542103c49",
   "metadata": {},
   "outputs": [
    {
     "name": "stdout",
     "output_type": "stream",
     "text": [
      "2\n",
      "34\n",
      "1\n",
      "4\n",
      "13\n"
     ]
    }
   ],
   "source": [
    "l1 = [2,34,1,4,13]\n",
    "for i in l1:\n",
    "    print(i)"
   ]
  },
  {
   "cell_type": "code",
   "execution_count": 35,
   "id": "ce1d73ac-3726-459a-88ff-4393be81a3ed",
   "metadata": {},
   "outputs": [
    {
     "name": "stdin",
     "output_type": "stream",
     "text": [
      "Enter a number:  8\n"
     ]
    },
    {
     "name": "stdout",
     "output_type": "stream",
     "text": [
      "8\n",
      "7\n",
      "6\n",
      "5\n",
      "4\n",
      "3\n",
      "2\n",
      "1\n",
      "0\n"
     ]
    }
   ],
   "source": [
    "num = int(input(\"Enter a number: \"))\n",
    "while num>=0:\n",
    "    print(num)\n",
    "    num -= 1\n",
    "    "
   ]
  },
  {
   "cell_type": "code",
   "execution_count": null,
   "id": "04946b5f-dfe6-4a92-8296-7ac277838a62",
   "metadata": {},
   "outputs": [],
   "source": []
  }
 ],
 "metadata": {
  "kernelspec": {
   "display_name": "Python 3 (ipykernel)",
   "language": "python",
   "name": "python3"
  },
  "language_info": {
   "codemirror_mode": {
    "name": "ipython",
    "version": 3
   },
   "file_extension": ".py",
   "mimetype": "text/x-python",
   "name": "python",
   "nbconvert_exporter": "python",
   "pygments_lexer": "ipython3",
   "version": "3.12.7"
  }
 },
 "nbformat": 4,
 "nbformat_minor": 5
}
